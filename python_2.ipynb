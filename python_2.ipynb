{
 "cells": [
  {
   "cell_type": "code",
   "execution_count": 1,
   "metadata": {},
   "outputs": [],
   "source": [
    "\"\"\"Questions From 51\"\"\"\n",
    "#function to determine profiling a python program\n",
    "#DOUT"
   ]
  },
  {
   "cell_type": "code",
   "execution_count": 2,
   "metadata": {},
   "outputs": [
    {
     "name": "stderr",
     "output_type": "stream",
     "text": [
      "Hello World\n"
     ]
    }
   ],
   "source": [
    "#function to print to stderr\n",
    "def eprint(*args, **kwargs):\n",
    "    print(*args, file=sys.stderr, **kwargs)\n",
    "eprint(\"Hello World\")\n"
   ]
  },
  {
   "cell_type": "code",
   "execution_count": 3,
   "metadata": {},
   "outputs": [
    {
     "name": "stdout",
     "output_type": "stream",
     "text": [
      "None\n"
     ]
    }
   ],
   "source": [
    "#function to acess environmenet variables\n",
    "def get_env(key):\n",
    "    return os.environ.get(key)\n",
    "print(get_env(\"HOME\"))"
   ]
  },
  {
   "cell_type": "code",
   "execution_count": 4,
   "metadata": {},
   "outputs": [
    {
     "name": "stdout",
     "output_type": "stream",
     "text": [
      "ayush\n"
     ]
    }
   ],
   "source": [
    "#function to get the current username\n",
    "def get_user():\n",
    "    return os.getlogin()\n",
    "print(get_user())"
   ]
  },
  {
   "cell_type": "code",
   "execution_count": 5,
   "metadata": {},
   "outputs": [
    {
     "name": "stdout",
     "output_type": "stream",
     "text": [
      "192.168.171.208\n"
     ]
    }
   ],
   "source": [
    "#function to find local ip address using stdlib\n",
    "def get_ip():\n",
    "    import socket\n",
    "    return socket.gethostbyname(socket.gethostname())\n",
    "print(get_ip())"
   ]
  },
  {
   "cell_type": "code",
   "execution_count": 6,
   "metadata": {},
   "outputs": [
    {
     "name": "stdout",
     "output_type": "stream",
     "text": [
      "(80, 25)\n"
     ]
    }
   ],
   "source": [
    "#function to get height and width of the console window\n",
    "def get_terminal_size():\n",
    "    import os\n",
    "    env = os.environ\n",
    "    def ioctl_GWINSZ(fd):\n",
    "        try:\n",
    "            import fcntl, termios, struct, os\n",
    "            cr = struct.unpack('hh', fcntl.ioctl(fd, termios.TIOCGWINSZ,\n",
    "        '1234'))\n",
    "        except:\n",
    "            return\n",
    "        return cr\n",
    "    cr = ioctl_GWINSZ(0) or ioctl_GWINSZ(1) or ioctl_GWINSZ(2)\n",
    "    if not cr:\n",
    "        try:\n",
    "            fd = os.open(os.ctermid(), os.O_RDONLY)\n",
    "            cr = ioctl_GWINSZ(fd)\n",
    "            os.close(fd)\n",
    "        except:\n",
    "            pass\n",
    "    if not cr:\n",
    "        cr = (env.get('LINES', 25), env.get('COLUMNS', 80))\n",
    "    return int(cr[1]), int(cr[0])\n",
    "print(get_terminal_size())"
   ]
  },
  {
   "cell_type": "code",
   "execution_count": 7,
   "metadata": {},
   "outputs": [
    {
     "name": "stdout",
     "output_type": "stream",
     "text": [
      "fib 0.0\n",
      "fib 0.0\n",
      "fib 0.0009996891021728516\n",
      "fib 0.0\n",
      "fib 0.0009996891021728516\n",
      "fib 0.0\n",
      "fib 0.0\n",
      "fib 0.0\n",
      "fib 0.0009996891021728516\n",
      "fib 0.0\n",
      "fib 0.0\n",
      "fib 0.0\n",
      "fib 0.0\n",
      "fib 0.0\n",
      "fib 0.0009996891021728516\n",
      "fib 0.0\n",
      "fib 0.0\n",
      "fib 0.0\n",
      "fib 0.0\n",
      "fib 0.0\n",
      "fib 0.0\n",
      "fib 0.0\n",
      "fib 0.0\n",
      "fib 0.0\n",
      "fib 0.0009996891021728516\n",
      "fib 0.0\n",
      "fib 0.0\n",
      "fib 0.0\n",
      "fib 0.0\n",
      "fib 0.0\n",
      "fib 0.0\n",
      "fib 0.0\n",
      "fib 0.0\n",
      "fib 0.0040018558502197266\n",
      "fib 0.0\n",
      "fib 0.0\n",
      "fib 0.0\n",
      "fib 0.0\n",
      "fib 0.0\n",
      "fib 0.0040018558502197266\n",
      "fib 0.005001544952392578\n",
      "fib 0.0\n",
      "fib 0.0\n",
      "fib 0.0\n",
      "fib 0.0\n",
      "fib 0.0\n",
      "fib 0.0\n",
      "fib 0.0\n",
      "fib 0.0\n",
      "fib 0.0\n",
      "fib 0.0\n",
      "fib 0.0\n",
      "fib 0.0\n",
      "fib 0.0\n",
      "fib 0.0\n",
      "fib 0.0\n",
      "fib 0.0\n",
      "fib 0.0\n",
      "fib 0.0\n",
      "fib 0.0\n",
      "fib 0.0\n",
      "fib 0.0\n",
      "fib 0.0\n",
      "fib 0.0\n",
      "fib 0.0\n",
      "fib 0.0\n",
      "fib 0.005001544952392578\n",
      "fib 0.0\n",
      "fib 0.0\n",
      "fib 0.0\n",
      "fib 0.0\n",
      "fib 0.0\n",
      "fib 0.0\n",
      "fib 0.0\n",
      "fib 0.0\n",
      "fib 0.0\n",
      "fib 0.0\n",
      "fib 0.0\n",
      "fib 0.0\n",
      "fib 0.0\n",
      "fib 0.0\n",
      "fib 0.0\n",
      "fib 0.0\n",
      "fib 0.0\n",
      "fib 0.0\n",
      "fib 0.0\n",
      "fib 0.0\n",
      "fib 0.0\n",
      "fib 0.0\n",
      "fib 0.0\n",
      "fib 0.0\n",
      "fib 0.00099945068359375\n",
      "fib 0.0\n",
      "fib 0.0\n",
      "fib 0.0\n",
      "fib 0.0\n",
      "fib 0.0\n",
      "fib 0.0\n",
      "fib 0.0\n",
      "fib 0.0\n",
      "fib 0.0\n",
      "fib 0.0\n",
      "fib 0.0\n",
      "fib 0.0\n",
      "fib 0.0\n",
      "fib 0.0\n",
      "fib 0.0\n",
      "fib 0.00099945068359375\n",
      "fib 0.006000995635986328\n",
      "fib 0.0\n",
      "fib 0.0\n",
      "fib 0.0\n",
      "fib 0.0\n",
      "fib 0.0\n",
      "fib 0.0\n",
      "fib 0.0\n",
      "fib 0.0\n",
      "fib 0.0010018348693847656\n",
      "fib 0.0\n",
      "fib 0.0\n",
      "fib 0.0\n",
      "fib 0.0\n",
      "fib 0.0\n",
      "fib 0.0010018348693847656\n",
      "fib 0.0\n",
      "fib 0.0\n",
      "fib 0.0\n",
      "fib 0.0\n",
      "fib 0.0\n",
      "fib 0.0\n",
      "fib 0.0\n",
      "fib 0.0\n",
      "fib 0.0\n",
      "fib 0.0010018348693847656\n",
      "fib 0.0\n",
      "fib 0.0\n",
      "fib 0.0\n",
      "fib 0.0\n",
      "fib 0.0\n",
      "fib 0.0\n",
      "fib 0.0\n",
      "fib 0.0\n",
      "fib 0.0\n",
      "fib 0.0\n",
      "fib 0.0\n",
      "fib 0.0\n",
      "fib 0.0\n",
      "fib 0.0\n",
      "fib 0.0\n",
      "fib 0.0010018348693847656\n",
      "fib 0.0\n",
      "fib 0.0\n",
      "fib 0.0\n",
      "fib 0.0\n",
      "fib 0.0\n",
      "fib 0.0\n",
      "fib 0.0\n",
      "fib 0.0\n",
      "fib 0.0\n",
      "fib 0.0\n",
      "fib 0.0\n",
      "fib 0.0\n",
      "fib 0.0\n",
      "fib 0.0\n",
      "fib 0.0\n",
      "fib 0.0\n",
      "fib 0.0\n",
      "fib 0.00099945068359375\n",
      "fib 0.0\n",
      "fib 0.00099945068359375\n",
      "fib 0.0\n",
      "fib 0.0\n",
      "fib 0.0\n",
      "fib 0.00099945068359375\n",
      "fib 0.00099945068359375\n",
      "fib 0.0020012855529785156\n",
      "fib 0.008002281188964844\n",
      "'wrapper'  0.01 sec\n",
      "89\n"
     ]
    }
   ],
   "source": [
    "#function to get execution time of a python method\n",
    "def timeit(method):\n",
    "    import time\n",
    "    def timed(*args, **kw):\n",
    "        ts = time.time()\n",
    "        result = method(*args, **kw)\n",
    "        te = time.time()\n",
    "        print('%r  %2.2f sec' % \\\n",
    "              (method.__name__, te-ts))\n",
    "        return result\n",
    "    return timed\n",
    "print(timeit(fib)(10))"
   ]
  },
  {
   "cell_type": "code",
   "execution_count": 1,
   "metadata": {},
   "outputs": [
    {
     "name": "stdout",
     "output_type": "stream",
     "text": [
      "55.0\n"
     ]
    }
   ],
   "source": [
    "#function to sum of the first n positive integers\n",
    "def sum_of_n(n):\n",
    "    return (n*(n+1))/2\n",
    "print(sum_of_n(10))"
   ]
  },
  {
   "cell_type": "code",
   "execution_count": 3,
   "metadata": {},
   "outputs": [
    {
     "name": "stdout",
     "output_type": "stream",
     "text": [
      "25\n"
     ]
    },
    {
     "ename": "TypeError",
     "evalue": "height_to_cm() missing 1 required positional argument: 'inches'",
     "output_type": "error",
     "traceback": [
      "\u001b[1;31m---------------------------------------------------------------------------\u001b[0m",
      "\u001b[1;31mTypeError\u001b[0m                                 Traceback (most recent call last)",
      "\u001b[1;32m~\\AppData\\Local\\Temp/ipykernel_19424/2414263982.py\u001b[0m in \u001b[0;36m<module>\u001b[1;34m\u001b[0m\n\u001b[0;32m      4\u001b[0m \u001b[0muserinput\u001b[0m \u001b[1;33m=\u001b[0m \u001b[0minput\u001b[0m\u001b[1;33m(\u001b[0m\u001b[1;34m\"Enter your height in feet and inches: \"\u001b[0m\u001b[1;33m)\u001b[0m\u001b[1;33m\u001b[0m\u001b[1;33m\u001b[0m\u001b[0m\n\u001b[0;32m      5\u001b[0m \u001b[0mprint\u001b[0m\u001b[1;33m(\u001b[0m\u001b[0muserinput\u001b[0m\u001b[1;33m)\u001b[0m\u001b[1;33m\u001b[0m\u001b[1;33m\u001b[0m\u001b[0m\n\u001b[1;32m----> 6\u001b[1;33m \u001b[0mprint\u001b[0m\u001b[1;33m(\u001b[0m\u001b[0mheight_to_cm\u001b[0m\u001b[1;33m(\u001b[0m\u001b[0muserinput\u001b[0m\u001b[1;33m)\u001b[0m\u001b[1;33m)\u001b[0m\u001b[1;33m\u001b[0m\u001b[1;33m\u001b[0m\u001b[0m\n\u001b[0m",
      "\u001b[1;31mTypeError\u001b[0m: height_to_cm() missing 1 required positional argument: 'inches'"
     ]
    }
   ],
   "source": [
    "#function to convert height (in feet and inches) to centimeters\n",
    "def height_to_cm(feet, inches):\n",
    "    return (feet*12 + inches)*2.54                                  \"\"\"ERROR\"\"\"\n",
    "userinput = input(\"Enter your height in feet and inches: \")\n",
    "print(userinput)\n",
    "print(height_to_cm(userinput))"
   ]
  },
  {
   "cell_type": "code",
   "execution_count": 5,
   "metadata": {},
   "outputs": [
    {
     "ename": "TypeError",
     "evalue": "unsupported operand type(s) for ** or pow(): 'str' and 'int'",
     "output_type": "error",
     "traceback": [
      "\u001b[1;31m---------------------------------------------------------------------------\u001b[0m",
      "\u001b[1;31mTypeError\u001b[0m                                 Traceback (most recent call last)",
      "\u001b[1;32m~\\AppData\\Local\\Temp/ipykernel_19424/3919649620.py\u001b[0m in \u001b[0;36m<module>\u001b[1;34m\u001b[0m\n\u001b[0;32m      4\u001b[0m \u001b[0muserinput\u001b[0m \u001b[1;33m=\u001b[0m \u001b[0minput\u001b[0m\u001b[1;33m(\u001b[0m\u001b[1;34m\"Enter the length of the first side: \"\u001b[0m\u001b[1;33m)\u001b[0m\u001b[1;33m\u001b[0m\u001b[1;33m\u001b[0m\u001b[0m\n\u001b[0;32m      5\u001b[0m \u001b[0muserinput2\u001b[0m \u001b[1;33m=\u001b[0m \u001b[0minput\u001b[0m\u001b[1;33m(\u001b[0m\u001b[1;34m\"Enter the length of the second side: \"\u001b[0m\u001b[1;33m)\u001b[0m\u001b[1;33m\u001b[0m\u001b[1;33m\u001b[0m\u001b[0m\n\u001b[1;32m----> 6\u001b[1;33m \u001b[0mprint\u001b[0m\u001b[1;33m(\u001b[0m\u001b[0mhypotenuse\u001b[0m\u001b[1;33m(\u001b[0m\u001b[0muserinput\u001b[0m\u001b[1;33m,\u001b[0m \u001b[0muserinput2\u001b[0m\u001b[1;33m)\u001b[0m\u001b[1;33m)\u001b[0m\u001b[1;33m\u001b[0m\u001b[1;33m\u001b[0m\u001b[0m\n\u001b[0m",
      "\u001b[1;32m~\\AppData\\Local\\Temp/ipykernel_19424/3919649620.py\u001b[0m in \u001b[0;36mhypotenuse\u001b[1;34m(a, b)\u001b[0m\n\u001b[0;32m      1\u001b[0m \u001b[1;31m#function to calculate the hypotenuse of a right triangle\u001b[0m\u001b[1;33m\u001b[0m\u001b[1;33m\u001b[0m\u001b[0m\n\u001b[0;32m      2\u001b[0m \u001b[1;32mdef\u001b[0m \u001b[0mhypotenuse\u001b[0m\u001b[1;33m(\u001b[0m\u001b[0ma\u001b[0m\u001b[1;33m,\u001b[0m \u001b[0mb\u001b[0m\u001b[1;33m)\u001b[0m\u001b[1;33m:\u001b[0m\u001b[1;33m\u001b[0m\u001b[1;33m\u001b[0m\u001b[0m\n\u001b[1;32m----> 3\u001b[1;33m     \u001b[1;32mreturn\u001b[0m \u001b[1;33m(\u001b[0m\u001b[0ma\u001b[0m\u001b[1;33m**\u001b[0m\u001b[1;36m2\u001b[0m \u001b[1;33m+\u001b[0m \u001b[0mb\u001b[0m\u001b[1;33m**\u001b[0m\u001b[1;36m2\u001b[0m\u001b[1;33m)\u001b[0m\u001b[1;33m**\u001b[0m\u001b[1;36m0.5\u001b[0m\u001b[1;33m\u001b[0m\u001b[1;33m\u001b[0m\u001b[0m\n\u001b[0m\u001b[0;32m      4\u001b[0m \u001b[0muserinput\u001b[0m \u001b[1;33m=\u001b[0m \u001b[0minput\u001b[0m\u001b[1;33m(\u001b[0m\u001b[1;34m\"Enter the length of the first side: \"\u001b[0m\u001b[1;33m)\u001b[0m\u001b[1;33m\u001b[0m\u001b[1;33m\u001b[0m\u001b[0m\n\u001b[0;32m      5\u001b[0m \u001b[0muserinput2\u001b[0m \u001b[1;33m=\u001b[0m \u001b[0minput\u001b[0m\u001b[1;33m(\u001b[0m\u001b[1;34m\"Enter the length of the second side: \"\u001b[0m\u001b[1;33m)\u001b[0m\u001b[1;33m\u001b[0m\u001b[1;33m\u001b[0m\u001b[0m\n",
      "\u001b[1;31mTypeError\u001b[0m: unsupported operand type(s) for ** or pow(): 'str' and 'int'"
     ]
    }
   ],
   "source": [
    "#function to calculate the hypotenuse of a right triangle\n",
    "def hypotenuse(a, b):\n",
    "    return (a**2 + b**2)**0.5                                              \"\"\"ERROR\"\"\"\n",
    "userinput = input(\"Enter the length of the first side: \")\n",
    "userinput2 = input(\"Enter the length of the second side: \")\n",
    "print(hypotenuse(userinput, userinput2))"
   ]
  },
  {
   "cell_type": "code",
   "execution_count": 8,
   "metadata": {},
   "outputs": [
    {
     "name": "stdout",
     "output_type": "stream",
     "text": [
      "Distance entered:  10\n",
      "Unit entered:  mi\n",
      "101010101010101010101010101010101010101010101010101010101010101010101010101010101010101010101010101010101010101010101010101010101010101010101010101010101010101010101010101010101010101010101010101010101010101010101010101010101010101010101010101010101010101010101010101010101010101010101010101010101010101010101010101010101010101010101010101010101010101010101010101010101010101010101010101010101010101010101010101010101010101010101010101010101010101010101010101010101010101010101010101010101010101010101010101010101010101010101010101010101010101010101010101010101010101010101010101010101010101010101010101010101010101010101010101010101010101010101010101010101010101010101010101010101010101010101010101010101010101010101010101010101010101010101010101010101010101010101010101010101010101010101010101010101010101010101010101010101010101010101010101010101010101010101010101010101010101010101010101010101010101010101010101010101010101010101010101010101010101010101010101010101010101010101010101010101010101010101010101010101010101010101010101010101010101010101010101010101010101010101010101010101010101010101010101010101010101010101010101010101010101010101010101010101010101010101010101010101010101010101010101010101010101010101010101010101010101010101010101010101010101010101010101010101010101010101010101010101010101010101010101010101010101010101010101010101010101010101010101010101010101010101010101010101010101010101010101010101010101010101010101010101010101010101010101010101010101010101010101010101010101010101010101010101010101010101010101010101010101010101010101010101010101010101010101010101010101010101010101010101010101010101010101010101010101010101010101010101010101010101010101010101010101010101010101010101010101010101010101010101010101010101010101010101010101010101010101010101010101010101010101010101010101010101010101010101010101010101010101010101010101010101010101010101010101010101010101010101010101010101010101010101010101010101010101010101010101010101010101010101010101010101010101010101010101010101010101010101010101010101010101010101010101010101010101010101010101010101010101010101010101010101010101010101010101010101010101010101010101010101010101010101010101010101010101010101010101010101010101010101010101010101010101010101010101010101010101010101010101010101010101010101010101010101010101010101010101010101010101010101010101010101010101010101010101010101010101010101010101010101010101010101010101010101010101010101010101010101010101010101010101010101010101010101010101010101010101010101010101010101010101010101010101010101010101010101010101010101010101010101010101010101010101010101010101010101010101010101010101010101010101010101010101010101010101010101010101010101010101010101010101010101010101010101010101010101010101010101010101010101010101010101010101010101010101010101010101010101010101010101010101010101010101010101010101010101010101010101010101010101010101010101010101010101010101010101010101010101010101010101010101010101010101010101010101010101010101010101010101010101010101010101010101010101010101010101010101010101010101010101010101010101010101010101010101010101010101010101010101010101010101010101010101010101010101010101010101010101010101010101010101010101010101010101010101010101010101010101010101010101010101010101010101010101010101010101010101010101010101010101010101010101010101010101010101010101010101010101010101010101010101010101010101010101010101010101010101010101010101010101010101010101010101010101010101010101010101010101010101010101010101010101010101010101010101010101010101010101010101010101010101010101010101010101010101010101010101010101010101010101010101010101010101010101010101010101010101010101010101010101010101010101010101010101010101010101010101010101010101010101010101010101010101010101010101010101010101010101010101010101010101010101010101010101010101010101010101010101010101010101010101010101010101010101010101010101010101010101010101010101010101010101010101010101010101010101010101010101010101010101010101010101010101010101010101010101010101010101010101010101010101010101010101010101010101010101010101010101010101010101010101010101010101010101010101010101010101010101010101010101010101010101010101010101010101010101010101010101010101010101010101010101010101010101010101010101010101010101010101010101010101010101010101010101010101010101010101010101010101010101010101010101010101010101010101010101010101010101010101010101010101010101010101010101010101010101010101010101010101010101010101010101010101010101010101010101010101010101010101010101010101010101010101010101010101010101010101010101010101010101010101010101010101010101010101010101010101010101010101010101010101010101010101010101010101010101010101010101010101010101010101010101010101010101010101010101010101010101010101010101010101010101010101010101010101010101010101010101010101010101010101010101010101010101010101010101010101010101010101010101010101010101010101010101010101010101010101010101010101010101010101010101010101010101010101010101010101010101010101010101010101010101010101010101010101010101010101010101010101010101010101010101010101010101010101010101010101010101010101010101010101010101010101010101010101010101010101010101010101010101010101010101010101010101010101010101010101010101010101010101010101010101010101010101010101010101010101010101010101010101010101010101010101010101010101010101010101010101010101010101010101010101010101010101010101010101010101010101010101010101010101010101010101010101010101010101010101010101010101010101010101010101010101010101010101010101010101010101010101010101010101010101010101010101010101010101010101010101010101010101010101010101010101010101010101010101010101010101010101010101010101010101010101010101010101010101010101010101010101010101010101010101010101010101010101010101010101010101010101010101010101010101010101010101010101010101010101010101010101010101010101010101010101010101010101010101010101010101010101010101010101010101010101010101010101010101010101010101010101010101010101010101010101010101010101010101010101010101010101010101010101010101010101010101010101010101010101010101010101010101010101010101010101010101010101010101010101010101010101010101010101010101010101010101010101010101010101010101010101010101010101010101010101010101010101010101010101010101010101010101010101010101010101010101010101010101010101010101010101010101010101010101010101010101010101010101010101010101010101010101010101010101010101010101010101010101010101010101010101010101010101010101010101010101010101010101010101010101010101010101010101010101010101010101010101010101010101010101010101010101010101010101010101010101010101010101010101010101010101010101010101010101010101010101010101010101010101010101010101010101010101010101010101010101010101010101010101010101010101010101010101010101010101010101010101010101010101010101010101010101010101010101010101010101010101010101010101010101010101010101010101010101010101010101010101010101010101010101010101010101010101010101010101010101010101010101010101010101010101010101010101010101010101010101010101010101010101010101010101010101010101010101010101010101010101010101010101010101010101010101010101010101010101010101010101010101010101010101010101010101010101010101010101010101010101010101010101010101010101010101010101010101010101010101010101010101010101010101010101010101010101010101010101010101010101010101010101010101010101010101010101010101010101010101010101010101010101010101010101010101010101010101010101010101010101010101010101010101010101010101010101010101010101010101010101010101010101010101010101010101010101010101010101010101010101010101010101010101010101010101010101010101010101010101010101010101010101010101010101010101010101010101010101010101010101010101010101010101010101010101010101010101010101010101010101010101010101010101010101010101010101010101010101010101010101010101010101010101010101010101010101010101010101010101010101010101010101010101010101010101010101010101010101010101010101010101010101010101010101010101010101010101010101010101010101010101010101010101010101010101010101010101010101010101010101010101010101010101010101010101010101010101010101010101010101010101010101010101010101010101010101010101010101010101010101010101010101010101010101010101010101010101010101010101010101010101010101010101010101010101010101010101010101010101010101010101010101010101010101010101010101010101010101010101010101010101010101010101010101010101010101010101010101010101010101010101010101010101010101010101010101010101010101010101010101010101010101010101010101010101010101010101010101010101010101010101010101010101010101010101010101010101010101010101010101010101010101010101010101010101010101010101010101010101010101010101010101010101010101010101010101010101010101010101010101010101010101010101010101010101010101010101010101010101010101010101010101010101010101010101010101010101010101010101010101010101010101010101010101010101010101010101010101010101010101010101010101010101010101010101010101010101010101010101010101010101010101010101010101010101010101010101010101010101010101010101010101010101010101010101010101010101010101010101010101010101010101010101010101010101010101010101010101010101010101010101010101010101010101010101010101010101010101010101010101010101010101010101010101010101010101010101010101010101010101010101010101010101010101010101010101010101010101010101010101010101010101010101010101010101010101010101010101010101010101010101010101010101010101010101010101010101010101010101010101010101010101010101010101010101010101010101010101010101010101010101010101010101010101010101010101010101010101010101010101010101010101010101010101010101010101010101010101010101010101010101010101010101010101010101010101010101010101010101010101010101010101010101010101010101010101010101010101010101010101010101010101010101010101010101010101010101010101010101010101010101010101010101010101010101010101010101010101010101010101010101010101010101010101010101010101010101010101010101010101010101010101010101010101010101010101010101010101010101010101010101010101010101010101010101010101010101010101010101010101010101010101010101010101010101010101010101010101010101010101010101010101010101010101010101010101010101010101010101010101010101010101010101010101010101010101010101010101010101010101010101010101010101010101010101010101010101010101010101010101010101010101010101010101010101010101010101010101010101010101010101010101010101010101010101010101010101010101010101010101010101010101010101010101010101010101010101010101010101010101010101010101010101010101010101010101010101010101010101010101010101010101010101010101010101010101010101010101010101010101010101010101010101010101010101010\n"
     ]
    }
   ],
   "source": [
    "#function to convert the distance (in feet) to inches, yards, and miles\n",
    "def distance_to_unit(distance, unit):\n",
    "    if unit == \"in\":\n",
    "        return distance*12\n",
    "    elif unit == \"yd\":\n",
    "        return distance*3\n",
    "    elif unit == \"mi\":\n",
    "        return distance*5280\n",
    "    else:\n",
    "        return \"Unknown unit\"   \n",
    "userinput=input(\"Enter the distance: \")\n",
    "userinput2=input(\"Enter the unit: \")\n",
    "print(\"Distance entered: \", userinput)\n",
    "print(\"Unit entered: \", userinput2)\n",
    "print(distance_to_unit(userinput, userinput2))"
   ]
  },
  {
   "cell_type": "code",
   "execution_count": 9,
   "metadata": {},
   "outputs": [
    {
     "name": "stdout",
     "output_type": "stream",
     "text": [
      "3661\n"
     ]
    }
   ],
   "source": [
    "#function to convert all units of time to seconds\n",
    "def time_to_seconds(hours, minutes, seconds):\n",
    "    return hours*3600 + minutes*60 + seconds\n",
    "print(time_to_seconds(1, 1, 1))\n"
   ]
  },
  {
   "cell_type": "code",
   "execution_count": 16,
   "metadata": {},
   "outputs": [
    {
     "name": "stdout",
     "output_type": "stream",
     "text": [
      "c:\\user\\file.txt\n"
     ]
    }
   ],
   "source": [
    "#function to find the absolute file path.\n",
    "def absolute_file_path(path):\n",
    "    import os\n",
    "    return os.path.abspath(path)\n",
    "print(absolute_file_path(\"/user/file.txt\"))"
   ]
  },
  {
   "cell_type": "code",
   "execution_count": 15,
   "metadata": {},
   "outputs": [
    {
     "ename": "SyntaxError",
     "evalue": "invalid syntax (Temp/ipykernel_17052/4073649813.py, line 11)",
     "output_type": "error",
     "traceback": [
      "\u001b[1;36m  File \u001b[1;32m\"C:\\Users\\ayush\\AppData\\Local\\Temp/ipykernel_17052/4073649813.py\"\u001b[1;36m, line \u001b[1;32m11\u001b[0m\n\u001b[1;33m    print(get_file_info(\"\"C:\\Users\\ayush\\OneDrive\\Desktop\\WorkSpace\\DOCS\\input.txt\"\"))\u001b[0m\n\u001b[1;37m                          ^\u001b[0m\n\u001b[1;31mSyntaxError\u001b[0m\u001b[1;31m:\u001b[0m invalid syntax\n"
     ]
    }
   ],
   "source": [
    "#function to get file creation and modification date/times.\n",
    "import datetime\n",
    "import os.path\n",
    "def get_file_info(path):\n",
    "    import os\n",
    "    import datetime\n",
    "    file_stats = os.stat(path)                                                               #ERROR\n",
    "    creation_date = datetime.datetime.fromtimestamp(file_stats.st_ctime)\n",
    "    modification_date = datetime.datetime.fromtimestamp(file_stats.st_mtime)\n",
    "    return (creation_date, modification_date)\n",
    "print(get_file_info(\"\"C:\\Users\\ayush\\OneDrive\\Desktop\\WorkSpace\\DOCS\\input.txt\"\"))"
   ]
  },
  {
   "cell_type": "code",
   "execution_count": 5,
   "metadata": {},
   "outputs": [
    {
     "name": "stdout",
     "output_type": "stream",
     "text": [
      "(100, 3, 10, 0)\n"
     ]
    }
   ],
   "source": [
    "#function to convert secconds to days, hours, minutes, and seconds\n",
    "def seconds_to_time(seconds):\n",
    "    import math\n",
    "    days = math.floor(seconds / 86400)\n",
    "    seconds -= days*86400\n",
    "    hours = math.floor(seconds / 3600)\n",
    "    seconds -= hours*3600\n",
    "    minutes = math.floor(seconds / 60)\n",
    "    seconds -= minutes*60\n",
    "    return (days, hours, minutes, seconds)\n",
    "print(seconds_to_time(8651400))\n"
   ]
  },
  {
   "cell_type": "code",
   "execution_count": 8,
   "metadata": {},
   "outputs": [
    {
     "name": "stdout",
     "output_type": "stream",
     "text": [
      "18888.88888888889\n"
     ]
    }
   ],
   "source": [
    "#function to calculate body mass index\n",
    "def bmi(weight, height):\n",
    "    return weight/((height/100)**2)\n",
    "print(bmi(68, 6))"
   ]
  },
  {
   "cell_type": "code",
   "execution_count": 7,
   "metadata": {},
   "outputs": [
    {
     "name": "stdout",
     "output_type": "stream",
     "text": [
      "0.145037738\n"
     ]
    }
   ],
   "source": [
    "#function to convert pressur in kilopascalesto pounds per square inch, a millimeter of mercury, and atmosphere pressure\n",
    "def pressure_converter(pressure, unit):\n",
    "    if unit == \"psi\":\n",
    "        return pressure*0.145037738\n",
    "    elif unit == \"mmHg\":\n",
    "        return pressure*0.0075006168\n",
    "    elif unit == \"atm\":\n",
    "        return pressure*0.0000098692\n",
    "    else:\n",
    "        return \"Unknown unit\"\n",
    "print(pressure_converter(1, \"psi\"))"
   ]
  },
  {
   "cell_type": "code",
   "execution_count": 9,
   "metadata": {},
   "outputs": [
    {
     "name": "stdout",
     "output_type": "stream",
     "text": [
      "6\n"
     ]
    }
   ],
   "source": [
    "#function to calculate the sum of digits of a number\n",
    "def sum_digits(n):\n",
    "    sum = 0\n",
    "    while n:\n",
    "        sum += n % 10\n",
    "        n //= 10\n",
    "    return sum\n",
    "print(sum_digits(123))"
   ]
  },
  {
   "cell_type": "code",
   "execution_count": 10,
   "metadata": {},
   "outputs": [
    {
     "name": "stdout",
     "output_type": "stream",
     "text": [
      "(1, 2, 3)\n"
     ]
    }
   ],
   "source": [
    "#function to sort three integers without uisng conditional statements\n",
    "def sort_three_numbers(a, b, c):\n",
    "    if a > b:\n",
    "        a, b = b, a\n",
    "    if a > c:\n",
    "        a, c = c, a\n",
    "    if b > c:\n",
    "        b, c = c, b\n",
    "    return a, b, c\n",
    "print(sort_three_numbers(2, 3, 1))"
   ]
  },
  {
   "cell_type": "code",
   "execution_count": 18,
   "metadata": {},
   "outputs": [
    {
     "ename": "SyntaxError",
     "evalue": "invalid syntax (Temp/ipykernel_17052/3222437858.py, line 10)",
     "output_type": "error",
     "traceback": [
      "\u001b[1;36m  File \u001b[1;32m\"C:\\Users\\ayush\\AppData\\Local\\Temp/ipykernel_17052/3222437858.py\"\u001b[1;36m, line \u001b[1;32m10\u001b[0m\n\u001b[1;33m    print(sort_files_by_date(\"\"C:\\Users\\ayush\\OneDrive\\Desktop\\WorkSpace\\DOCS\\input.txt\"\"))\u001b[0m\n\u001b[1;37m                               ^\u001b[0m\n\u001b[1;31mSyntaxError\u001b[0m\u001b[1;31m:\u001b[0m invalid syntax\n"
     ]
    }
   ],
   "source": [
    "#function tpo sort files by date\n",
    "import os\n",
    "import datetime\n",
    "def sort_files_by_date(path):\n",
    "    import os                                                  \"\"\"ERROR\"\"\"\n",
    "    import datetime\n",
    "    files = os.listdir(path)\n",
    "    files.sort(key=lambda x: datetime.datetime.fromtimestamp(os.stat(os.path.join(path, x)).st_mtime))\n",
    "    return files\n",
    "print(sort_files_by_date(\"\"C:\\Users\\ayush\\OneDrive\\Desktop\\WorkSpace\\DOCS\\input.txt\"\"))"
   ]
  },
  {
   "cell_type": "markdown",
   "metadata": {},
   "source": [
    "71 Question. Write a python program to gaet a dictonary list, sorted by creation date.\n",
    "    \n",
    "    [Dout]"
   ]
  },
  {
   "cell_type": "code",
   "execution_count": 19,
   "metadata": {},
   "outputs": [
    {
     "name": "stdout",
     "output_type": "stream",
     "text": [
      "['__doc__', '__loader__', '__name__', '__package__', '__spec__', 'acos', 'acosh', 'asin', 'asinh', 'atan', 'atan2', 'atanh', 'ceil', 'comb', 'copysign', 'cos', 'cosh', 'degrees', 'dist', 'e', 'erf', 'erfc', 'exp', 'expm1', 'fabs', 'factorial', 'floor', 'fmod', 'frexp', 'fsum', 'gamma', 'gcd', 'hypot', 'inf', 'isclose', 'isfinite', 'isinf', 'isnan', 'isqrt', 'lcm', 'ldexp', 'lgamma', 'log', 'log10', 'log1p', 'log2', 'modf', 'nan', 'nextafter', 'perm', 'pi', 'pow', 'prod', 'radians', 'remainder', 'sin', 'sinh', 'sqrt', 'tan', 'tanh', 'tau', 'trunc', 'ulp']\n"
     ]
    }
   ],
   "source": [
    "#program to get the detail of math module\n",
    "import math\n",
    "print(dir(math))"
   ]
  },
  {
   "cell_type": "code",
   "execution_count": 20,
   "metadata": {},
   "outputs": [
    {
     "name": "stdout",
     "output_type": "stream",
     "text": [
      "(2.0, 3.0)\n"
     ]
    }
   ],
   "source": [
    "#function to calculate the midpoint fo the line\n",
    "import math\n",
    "def midpoint(x1, y1, x2, y2):\n",
    "    return (x1 + x2)/2, (y1 + y2)/2\n",
    "print(midpoint(1, 2, 3, 4))"
   ]
  },
  {
   "cell_type": "code",
   "execution_count": 21,
   "metadata": {},
   "outputs": [
    {
     "name": "stdout",
     "output_type": "stream",
     "text": [
      "3848e9eff8d31953e3762251e377bb08f78099d2f2193740cd0523738da8b1a5\n"
     ]
    }
   ],
   "source": [
    "#program to hash a word\n",
    "import hashlib\n",
    "def hash_word(word):\n",
    "    return hashlib.sha256(word.encode('utf-8')).hexdigest()\n",
    "print(hash_word(\"ayush\"))\n"
   ]
  },
  {
   "cell_type": "code",
   "execution_count": 22,
   "metadata": {},
   "outputs": [
    {
     "name": "stdout",
     "output_type": "stream",
     "text": [
      "Copyright 2022 c:\\Users\\ayush\\OneDrive\\Documents\\WorkSpace\n"
     ]
    }
   ],
   "source": [
    "#program to get the copywrite information and write a copywrite information in python code\n",
    "import datetime\n",
    "import os\n",
    "def get_copyright_info():\n",
    "    import datetime\n",
    "    import os\n",
    "    return \"Copyright {} {}\".format(datetime.datetime.now().year, os.getcwd())\n",
    "print(get_copyright_info())\n"
   ]
  },
  {
   "cell_type": "markdown",
   "metadata": {},
   "source": [
    "76, 77 Questions. [Dout] "
   ]
  },
  {
   "cell_type": "code",
   "execution_count": 1,
   "metadata": {},
   "outputs": [
    {
     "name": "stdout",
     "output_type": "stream",
     "text": [
      "('_abc', '_ast', '_bisect', '_blake2', '_codecs', '_codecs_cn', '_codecs_hk', '_codecs_iso2022', '_codecs_jp', '_codecs_kr', '_codecs_tw', '_collections', '_contextvars', '_csv', '_datetime', '_functools', '_heapq', '_imp', '_io', '_json', '_locale', '_lsprof', '_md5', '_multibytecodec', '_opcode', '_operator', '_peg_parser', '_pickle', '_random', '_sha1', '_sha256', '_sha3', '_sha512', '_signal', '_sre', '_stat', '_statistics', '_string', '_struct', '_symtable', '_thread', '_tracemalloc', '_warnings', '_weakref', '_winapi', '_xxsubinterpreters', 'array', 'atexit', 'audioop', 'binascii', 'builtins', 'cmath', 'errno', 'faulthandler', 'gc', 'itertools', 'marshal', 'math', 'mmap', 'msvcrt', 'nt', 'parser', 'sys', 'time', 'winreg', 'xxsubtype', 'zlib')\n"
     ]
    }
   ],
   "source": [
    "#Program to find the available built-in modules\n",
    "import sys\n",
    "print(sys.builtin_module_names)"
   ]
  },
  {
   "cell_type": "code",
   "execution_count": 2,
   "metadata": {},
   "outputs": [
    {
     "name": "stdout",
     "output_type": "stream",
     "text": [
      "28\n"
     ]
    }
   ],
   "source": [
    "#function to get the size of an object in bytes\n",
    "def get_size(obj):\n",
    "    import sys\n",
    "    return sys.getsizeof(obj)\n",
    "print(get_size(1))"
   ]
  },
  {
   "cell_type": "code",
   "execution_count": 4,
   "metadata": {},
   "outputs": [
    {
     "name": "stdout",
     "output_type": "stream",
     "text": [
      "3000\n"
     ]
    }
   ],
   "source": [
    "#program to get the current value of the recursion limit\n",
    "import sys\n",
    "print(sys.getrecursionlimit())"
   ]
  },
  {
   "cell_type": "code",
   "execution_count": 5,
   "metadata": {},
   "outputs": [
    {
     "name": "stdout",
     "output_type": "stream",
     "text": [
      "ayushkumarrout\n"
     ]
    }
   ],
   "source": [
    "#function to concatinate N strings\n",
    "def concat_strings(n, *args):\n",
    "    return \"\".join(args)\n",
    "print(concat_strings(3, \"ayush\", \"kumar\", \"rout\"))\n"
   ]
  },
  {
   "cell_type": "code",
   "execution_count": 7,
   "metadata": {},
   "outputs": [
    {
     "name": "stdout",
     "output_type": "stream",
     "text": [
      "15\n"
     ]
    }
   ],
   "source": [
    "#function to sun all the items of a container (list, tuple, set, dictionary)\n",
    "def sum_container(container):\n",
    "    return sum(container)\n",
    "print(sum_container([1, 2, 3, 4, 5]))"
   ]
  },
  {
   "cell_type": "code",
   "execution_count": 11,
   "metadata": {},
   "outputs": [
    {
     "name": "stdout",
     "output_type": "stream",
     "text": [
      "True\n"
     ]
    }
   ],
   "source": [
    "#function to test weather all numbers of a list is greater than a certain number\n",
    "def all_numbers_greater_than(numbers, n):\n",
    "    for num in numbers:\n",
    "        if num < n:\n",
    "            return False\n",
    "    return True\n",
    "print(all_numbers_greater_than([100, 200, 300, 400, 500], 100))"
   ]
  },
  {
   "cell_type": "code",
   "execution_count": 12,
   "metadata": {},
   "outputs": [
    {
     "name": "stdout",
     "output_type": "stream",
     "text": [
      "1\n"
     ]
    }
   ],
   "source": [
    "#function to count the number occurrence of a specific charecter in a string\n",
    "def count_char_occurrence(string, char):\n",
    "    return string.count(char)\n",
    "print(count_char_occurrence(\"ayush\", \"h\"))"
   ]
  },
  {
   "cell_type": "code",
   "execution_count": 13,
   "metadata": {},
   "outputs": [
    {
     "ename": "SyntaxError",
     "evalue": "invalid syntax (Temp/ipykernel_9660/3012809152.py, line 6)",
     "output_type": "error",
     "traceback": [
      "\u001b[1;36m  File \u001b[1;32m\"C:\\Users\\ayush\\AppData\\Local\\Temp/ipykernel_9660/3012809152.py\"\u001b[1;36m, line \u001b[1;32m6\u001b[0m\n\u001b[1;33m    print(is_file(\"\"C:\\Users\\ayush\\OneDrive\\Desktop\\WorkSpace\\DOCS\\input.txt\"\"))\u001b[0m\n\u001b[1;37m                    ^\u001b[0m\n\u001b[1;31mSyntaxError\u001b[0m\u001b[1;31m:\u001b[0m invalid syntax\n"
     ]
    }
   ],
   "source": [
    "#program to check weather a file path is a file or dictonary\n",
    "import os\n",
    "def is_file(path):\n",
    "    import os\n",
    "    return os.path.isfile(path)\n",
    "print(is_file(\"\"C:\\Users\\ayush\\OneDrive\\Desktop\\WorkSpace\\DOCS\\input.txt\"\"))"
   ]
  },
  {
   "cell_type": "code",
   "execution_count": 3,
   "metadata": {},
   "outputs": [
    {
     "name": "stdout",
     "output_type": "stream",
     "text": [
      "83\n"
     ]
    }
   ],
   "source": [
    "#function to get the ASCII value of a charecter\n",
    "def ascii_value(char):\n",
    "    return ord(char)\n",
    "print(ascii_value(\"S\"))"
   ]
  },
  {
   "cell_type": "code",
   "execution_count": 5,
   "metadata": {},
   "outputs": [
    {
     "ename": "SyntaxError",
     "evalue": "invalid syntax (Temp/ipykernel_14696/3101976810.py, line 6)",
     "output_type": "error",
     "traceback": [
      "\u001b[1;36m  File \u001b[1;32m\"C:\\Users\\ayush\\AppData\\Local\\Temp/ipykernel_14696/3101976810.py\"\u001b[1;36m, line \u001b[1;32m6\u001b[0m\n\u001b[1;33m    print(get_file_size(\"\"C:\\Users\\ayush\\OneDrive\\Desktop\\WorkSpace\\DOCS\\input.txt\"\"))\u001b[0m\n\u001b[1;37m                          ^\u001b[0m\n\u001b[1;31mSyntaxError\u001b[0m\u001b[1;31m:\u001b[0m invalid syntax\n"
     ]
    }
   ],
   "source": [
    "#program to get the size of the file\n",
    "import os\n",
    "def get_file_size(path):\n",
    "    import os                                        \"\"\"ERROR\"\"\"\n",
    "    return os.path.getsize(path)\n",
    "print(get_file_size(\"\"C:\\Users\\ayush\\OneDrive\\Desktop\\WorkSpace\\DOCS\\input.txt\"\"))"
   ]
  },
  {
   "cell_type": "code",
   "execution_count": 10,
   "metadata": {},
   "outputs": [
    {
     "name": "stdout",
     "output_type": "stream",
     "text": [
      "True\n"
     ]
    }
   ],
   "source": [
    "# variable x=30 and y=20 program to print x + y = 50\n",
    "x = 30\n",
    "y = 20\n",
    "print(x + y == 50)\n"
   ]
  },
  {
   "cell_type": "markdown",
   "metadata": {},
   "source": [
    "Question 89, 90. [DOUT]"
   ]
  },
  {
   "cell_type": "code",
   "execution_count": 13,
   "metadata": {},
   "outputs": [
    {
     "name": "stdout",
     "output_type": "stream",
     "text": [
      "(280, 150)\n"
     ]
    }
   ],
   "source": [
    "#function to swap two variables\n",
    "def swap(x, y):\n",
    "    return y, x\n",
    "print(swap(150, 280))"
   ]
  },
  {
   "cell_type": "markdown",
   "metadata": {},
   "source": [
    "QUESTION 92. [DOUT]"
   ]
  },
  {
   "cell_type": "code",
   "execution_count": 15,
   "metadata": {},
   "outputs": [
    {
     "name": "stdout",
     "output_type": "stream",
     "text": [
      "(2183803791664, <class 'int'>, 1)\n"
     ]
    }
   ],
   "source": [
    "#program to get the identity, type and value of an object\n",
    "import sys\n",
    "def get_object_info(obj):\n",
    "    return (id(obj), type(obj), obj)\n",
    "print(get_object_info(1))"
   ]
  },
  {
   "cell_type": "markdown",
   "metadata": {},
   "source": [
    "Question 94. [DOUT]"
   ]
  },
  {
   "cell_type": "code",
   "execution_count": 17,
   "metadata": {},
   "outputs": [
    {
     "name": "stdout",
     "output_type": "stream",
     "text": [
      "True\n"
     ]
    }
   ],
   "source": [
    "#function to check weather a string in numeric\n",
    "def is_numeric(string): \n",
    "    try:                      #The try block lets you test a block of code for errors.\n",
    "        float(string)        \n",
    "        return True\n",
    "    except ValueError:        #The except block lets you handle the error.\n",
    "        return False\n",
    "print(is_numeric(\"1\"))"
   ]
  },
  {
   "cell_type": "markdown",
   "metadata": {},
   "source": [
    "Question 96. [DOUT]"
   ]
  },
  {
   "cell_type": "code",
   "execution_count": 2,
   "metadata": {},
   "outputs": [
    {
     "name": "stdout",
     "output_type": "stream",
     "text": [
      "('_abc', '_ast', '_bisect', '_blake2', '_codecs', '_codecs_cn', '_codecs_hk', '_codecs_iso2022', '_codecs_jp', '_codecs_kr', '_codecs_tw', '_collections', '_contextvars', '_csv', '_datetime', '_functools', '_heapq', '_imp', '_io', '_json', '_locale', '_lsprof', '_md5', '_multibytecodec', '_opcode', '_operator', '_peg_parser', '_pickle', '_random', '_sha1', '_sha256', '_sha3', '_sha512', '_signal', '_sre', '_stat', '_statistics', '_string', '_struct', '_symtable', '_thread', '_tracemalloc', '_warnings', '_weakref', '_winapi', '_xxsubinterpreters', 'array', 'atexit', 'audioop', 'binascii', 'builtins', 'cmath', 'errno', 'faulthandler', 'gc', 'itertools', 'marshal', 'math', 'mmap', 'msvcrt', 'nt', 'parser', 'sys', 'time', 'winreg', 'xxsubtype', 'zlib')\n"
     ]
    }
   ],
   "source": [
    "#program to list the special variables used within the language\n",
    "import sys\n",
    "print(sys.builtin_module_names)"
   ]
  },
  {
   "cell_type": "code",
   "execution_count": 3,
   "metadata": {},
   "outputs": [
    {
     "name": "stdout",
     "output_type": "stream",
     "text": [
      "13:00:04.061867\n"
     ]
    },
    {
     "ename": "",
     "evalue": "",
     "output_type": "error",
     "traceback": [
      "\u001b[1;31mThe Kernel crashed while executing code in the the current cell or a previous cell. Please review the code in the cell(s) to identify a possible cause of the failure. Click <a href='https://aka.ms/vscodeJupyterKernelCrash'>here</a> for more info. View Jupyter <a href='command:jupyter.viewOutput'>log</a> for further details."
     ]
    }
   ],
   "source": [
    "#function to get systerm time\n",
    "import datetime\n",
    "def get_system_time():\n",
    "    return datetime.datetime.now().time()\n",
    "print(get_system_time())"
   ]
  },
  {
   "cell_type": "markdown",
   "metadata": {},
   "source": [
    "Question 99, 100. [DOUT]"
   ]
  }
 ],
 "metadata": {
  "interpreter": {
   "hash": "4776eb30a046ab6d0c3e65f56044d961f6878ebd8f8cbdf1a791b04d1d0b3d44"
  },
  "kernelspec": {
   "display_name": "Python 3.9.13 64-bit (windows store)",
   "language": "python",
   "name": "python3"
  },
  "language_info": {
   "codemirror_mode": {
    "name": "ipython",
    "version": 3
   },
   "file_extension": ".py",
   "mimetype": "text/x-python",
   "name": "python",
   "nbconvert_exporter": "python",
   "pygments_lexer": "ipython3",
   "version": "3.9.13"
  },
  "orig_nbformat": 4
 },
 "nbformat": 4,
 "nbformat_minor": 2
}
